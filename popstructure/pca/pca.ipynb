{
 "cells": [
  {
   "cell_type": "code",
   "execution_count": 1,
   "metadata": {},
   "outputs": [
    {
     "name": "stdout",
     "output_type": "stream",
     "text": [
      "scikit-allel 1.3.2\n",
      "1.3.2\n"
     ]
    }
   ],
   "source": [
    "# import scikit-allel\n",
    "import random\n",
    "random.seed(42)\n",
    "import time\n",
    "import numpy as np\n",
    "np.random.seed(42)\n",
    "import h5py\n",
    "import matplotlib.pyplot as plt\n",
    "%matplotlib inline\n",
    "import seaborn as sns\n",
    "sns.set_style('white')\n",
    "sns.set_style('ticks')\n",
    "import bcolz\n",
    "import pandas\n",
    "import allel; print('scikit-allel', allel.__version__)\n",
    "# check which version is installed\n",
    "print(allel.__version__)\n",
    "\n",
    "callset = allel.read_vcf('/home/daron/bioInf/wilding/vcf_store/ag1000g.phase2.anopheles-rose.merged.biallelic.3.pruned.vcf.gz', fields='*')\n",
    "\n",
    "# recode chrom pos in ndarray\n",
    "pos = callset['variants/POS']\n",
    "chrom = callset['variants/CHROM']\n",
    "var = np.rec.fromarrays([chrom,pos], names='chrom,pos')\n",
    "\n",
    "# create genotype array of whole dataset.\n",
    "gt = allel.GenotypeArray(callset['calldata/GT'])\n",
    "                                                                                                                                                                                                                                                                                                                                                                                                                                                                                                                                                                                                                                                                                                                                                                                                                                                                                                                                                                                                                                                                                                                                                                                                                                                                                                                                                                                                                                                                                                                                                                                                                                                                                                                                                                                                                                                                                                                                                                    "
   ]
  },
  {
   "cell_type": "code",
   "execution_count": 2,
   "metadata": {},
   "outputs": [
    {
     "name": "stdout",
     "output_type": "stream",
     "text": [
      "(1003463, 77, 2)\n"
     ]
    }
   ],
   "source": [
    "# select subset of sample if needed\n",
    "keepFile = pandas.read_csv(\"/home/daron/bioInf/wilding/ressources/k\", sep='\\t', header=None)\n",
    "\n",
    "# coorespondance of samples order between snp and meta file\n",
    "samples_list = list(callset[\"samples\"])\n",
    "samples_callset_index = [samples_list.index(s) for s in keepFile[0]]\n",
    "# print(samples_callset_index)\n",
    "\n",
    "# create a genotype array of the selected samples\n",
    "gt = gt.take(samples_callset_index, axis=1)\n",
    "print(gt.shape)"
   ]
  },
  {
   "cell_type": "code",
   "execution_count": 3,
   "metadata": {},
   "outputs": [
    {
     "data": {
      "text/html": [
       "<div class=\"allel allel-DisplayAs2D\"><span>&lt;GenotypeArray shape=(857565, 77, 2) dtype=int8&gt;</span><table><thead><tr><th></th><th style=\"text-align: center\">0</th><th style=\"text-align: center\">1</th><th style=\"text-align: center\">2</th><th style=\"text-align: center\">3</th><th style=\"text-align: center\">4</th><th style=\"text-align: center\">...</th><th style=\"text-align: center\">72</th><th style=\"text-align: center\">73</th><th style=\"text-align: center\">74</th><th style=\"text-align: center\">75</th><th style=\"text-align: center\">76</th></tr></thead><tbody><tr><th style=\"text-align: center; background-color: white; border-right: 1px solid black; \">0</th><td style=\"text-align: center\">0/1</td><td style=\"text-align: center\">0/0</td><td style=\"text-align: center\">0/0</td><td style=\"text-align: center\">0/0</td><td style=\"text-align: center\">0/0</td><td style=\"text-align: center\">...</td><td style=\"text-align: center\">0/1</td><td style=\"text-align: center\">0/0</td><td style=\"text-align: center\">0/0</td><td style=\"text-align: center\">0/1</td><td style=\"text-align: center\">0/1</td></tr><tr><th style=\"text-align: center; background-color: white; border-right: 1px solid black; \">1</th><td style=\"text-align: center\">0/0</td><td style=\"text-align: center\">0/0</td><td style=\"text-align: center\">0/0</td><td style=\"text-align: center\">0/0</td><td style=\"text-align: center\">0/0</td><td style=\"text-align: center\">...</td><td style=\"text-align: center\">0/0</td><td style=\"text-align: center\">0/0</td><td style=\"text-align: center\">0/0</td><td style=\"text-align: center\">0/0</td><td style=\"text-align: center\">0/1</td></tr><tr><th style=\"text-align: center; background-color: white; border-right: 1px solid black; \">2</th><td style=\"text-align: center\">0/0</td><td style=\"text-align: center\">0/1</td><td style=\"text-align: center\">0/0</td><td style=\"text-align: center\">0/0</td><td style=\"text-align: center\">0/0</td><td style=\"text-align: center\">...</td><td style=\"text-align: center\">0/0</td><td style=\"text-align: center\">0/0</td><td style=\"text-align: center\">0/1</td><td style=\"text-align: center\">0/0</td><td style=\"text-align: center\">0/0</td></tr><tr><th style=\"text-align: center; background-color: white; border-right: 1px solid black; \">...</th><td style=\"text-align: center\" colspan=\"12\">...</td></tr><tr><th style=\"text-align: center; background-color: white; border-right: 1px solid black; \">857562</th><td style=\"text-align: center\">0/0</td><td style=\"text-align: center\">0/0</td><td style=\"text-align: center\">0/0</td><td style=\"text-align: center\">0/0</td><td style=\"text-align: center\">0/0</td><td style=\"text-align: center\">...</td><td style=\"text-align: center\">0/1</td><td style=\"text-align: center\">0/0</td><td style=\"text-align: center\">0/0</td><td style=\"text-align: center\">0/0</td><td style=\"text-align: center\">0/0</td></tr><tr><th style=\"text-align: center; background-color: white; border-right: 1px solid black; \">857563</th><td style=\"text-align: center\">0/1</td><td style=\"text-align: center\">0/1</td><td style=\"text-align: center\">0/0</td><td style=\"text-align: center\">0/0</td><td style=\"text-align: center\">0/1</td><td style=\"text-align: center\">...</td><td style=\"text-align: center\">0/0</td><td style=\"text-align: center\">0/0</td><td style=\"text-align: center\">0/0</td><td style=\"text-align: center\">0/1</td><td style=\"text-align: center\">0/0</td></tr><tr><th style=\"text-align: center; background-color: white; border-right: 1px solid black; \">857564</th><td style=\"text-align: center\">0/0</td><td style=\"text-align: center\">0/0</td><td style=\"text-align: center\">0/0</td><td style=\"text-align: center\">0/0</td><td style=\"text-align: center\">0/0</td><td style=\"text-align: center\">...</td><td style=\"text-align: center\">0/0</td><td style=\"text-align: center\">0/0</td><td style=\"text-align: center\">0/0</td><td style=\"text-align: center\">0/0</td><td style=\"text-align: center\">0/0</td></tr></tbody></table></div>"
      ],
      "text/plain": [
       "<GenotypeArray shape=(857565, 77, 2) dtype=int8>\n",
       "0/1 0/0 0/0 0/0 0/0 ... 0/1 0/0 0/0 0/1 0/1\n",
       "0/0 0/0 0/0 0/0 0/0 ... 0/0 0/0 0/0 0/0 0/1\n",
       "0/0 0/1 0/0 0/0 0/0 ... 0/0 0/0 0/1 0/0 0/0\n",
       "...\n",
       "0/0 0/0 0/0 0/0 0/0 ... 0/1 0/0 0/0 0/0 0/0\n",
       "0/1 0/1 0/0 0/0 0/1 ... 0/0 0/0 0/0 0/1 0/0\n",
       "0/0 0/0 0/0 0/0 0/0 ... 0/0 0/0 0/0 0/0 0/0"
      ]
     },
     "execution_count": 3,
     "metadata": {},
     "output_type": "execute_result"
    }
   ],
   "source": [
    "# remove variant with maf<0.01 and multi-allelic SNP and no segregating site\n",
    "ac = gt.count_alleles(max_allele=3)\n",
    "maf_cuttoff = 0.01\n",
    "flt = ((ac.max_allele() == 1) & (1-ac.to_frequencies().max(axis=1) > maf_cuttoff) & ac.is_segregating()[:])\n",
    "flt\n",
    "\n",
    "gt_f = gt.compress(flt, axis=0)\n",
    "\n",
    "gt_f\n"
   ]
  },
  {
   "cell_type": "code",
   "execution_count": 4,
   "metadata": {},
   "outputs": [
    {
     "data": {
      "text/plain": [
       "(77, 10)"
      ]
     },
     "execution_count": 4,
     "metadata": {},
     "output_type": "execute_result"
    }
   ],
   "source": [
    "# Transform the genotypes into an array of alternate allele counts per call.\n",
    "gn = gt_f.to_n_alt()[:]\n",
    "coords, model = allel.pca(gn)\n",
    "coords.shape\n"
   ]
  },
  {
   "cell_type": "code",
   "execution_count": 7,
   "metadata": {},
   "outputs": [],
   "source": [
    "# Print to file\n",
    "\n",
    "# if subset \n",
    "coords_export = np.column_stack((callset[\"samples\"][samples_callset_index], coords))\n",
    "\n",
    "# else \n",
    "#coords_export = np.column_stack((callset[\"samples\"], coords))\n",
    "\n",
    "np.savetxt(\"/home/daron/bioInf/wilding/popstructure/pca/anopheles-rose.biallelic.3.pca.eigenvec.txt\", coords_export, newline=\"\\n\", delimiter=\"\\t\", fmt='%s')\n",
    "np.savetxt(\"/home/daron/bioInf/wilding/popstructure/pca/anopheles-rose.biallelic.3.pca.eigenval.txt\", model.explained_variance_ratio_, newline=\"\\n\", delimiter=\"\\t\")\n",
    "\n"
   ]
  }
 ],
 "metadata": {
  "kernelspec": {
   "display_name": "Python 3",
   "language": "python",
   "name": "python3"
  },
  "language_info": {
   "codemirror_mode": {
    "name": "ipython",
    "version": 3
   },
   "file_extension": ".py",
   "mimetype": "text/x-python",
   "name": "python",
   "nbconvert_exporter": "python",
   "pygments_lexer": "ipython3",
   "version": "3.7.6"
  }
 },
 "nbformat": 4,
 "nbformat_minor": 4
}
