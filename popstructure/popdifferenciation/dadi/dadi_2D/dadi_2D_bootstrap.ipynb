{
 "cells": [
  {
   "cell_type": "code",
   "execution_count": 1,
   "metadata": {},
   "outputs": [],
   "source": [
    "import numpy as np\n",
    "import dadi\n"
   ]
  },
  {
   "cell_type": "code",
   "execution_count": 2,
   "metadata": {},
   "outputs": [],
   "source": [
    "fs = dadi.Spectrum.from_file('/home/daron/bioInf/wilding/popstructure/popdifferenciation/dadi/dadi_2D/anopheles-rose.3.unifiedGenotyper.cov14x.passQC.merge.pol.LPdom_LBVwil.fs')\n"
   ]
  },
  {
   "cell_type": "code",
   "execution_count": 3,
   "metadata": {},
   "outputs": [
    {
     "data": {
      "text/plain": [
       "Text(0.5, 1.0, 'Orignal data')"
      ]
     },
     "execution_count": 3,
     "metadata": {},
     "output_type": "execute_result"
    },
    {
     "data": {
      "image/png": "[encoded data removed]",
      "text/plain": [
       "<Figure size 720x432 with 2 Axes>"
      ]
     },
     "metadata": {
      "needs_background": "light"
     },
     "output_type": "display_data"
    }
   ],
   "source": [
    "# Plot comparing the multiple versions of our data spectra.\n",
    "import matplotlib.pyplot as plt\n",
    "\n",
    "fig = plt.figure(1, figsize=(10,6))\n",
    "fig.clear()\n",
    "\n",
    "ax = fig.add_subplot(1,1,1)\n",
    "dadi.Plotting.plot_single_2d_sfs(fs, vmin=1e-2, ax=ax)\n",
    "ax.set_title('Orignal data')\n"
   ]
  },
  {
   "cell_type": "code",
   "execution_count": 4,
   "metadata": {},
   "outputs": [],
   "source": [
    "# model\n",
    "def SCG(params, ns, pts):\n",
    "    n1,n2 = ns\n",
    "    nu1, nu2, b1, b2, m12, m21, Ts, Tsc, O = params\n",
    "   \n",
    "    \"\"\"\n",
    "    Model with split, complete isolation, followed by secondary contact with exponential growth\n",
    "\n",
    "    nu1: Size of population 1 at split.\n",
    "    nu2: Size of population 2 at split.\n",
    "    b1: Population growth coefficient of population 1\n",
    "    b2: Population growth coefficient of population 2\n",
    "    m12: Migration from pop 2 to pop 1 (2*Na*m12).\n",
    "    m21: Migration from pop 1 to pop 2.\n",
    "    Ts: The scaled time between the split and the secondary contact (in units of 2*Na generations).\n",
    "    Tsc: The scale time between the secondary contact and present.\n",
    "    O: The proportion of accurate orientation\n",
    "    n1,n2: Size of fs to generate.\n",
    "    pts: Number of points to use in grid for evaluation.\n",
    "    \"\"\"\n",
    "    \n",
    "    # Define the grid we'll use\n",
    "    xx = dadi.Numerics.default_grid(pts)\n",
    "\n",
    "    # phi for the equilibrium ancestral population\n",
    "    phi = dadi.PhiManip.phi_1D(xx)\n",
    "    # Now do the divergence event\n",
    "    phi = dadi.PhiManip.phi_1D_to_2D(xx, phi)\n",
    "    # We set the population sizes after the split to nu1 and nu2 and the migration rate to zero\n",
    "    phi = dadi.Integration.two_pops(phi, xx, Ts, nu1, nu2, m12=0, m21=0)\n",
    "    # We start the population reduction after the split and set the migration rates to m12 and m21\n",
    "    bnu1_func = lambda t: nu1 * b1**(t/Tsc)\n",
    "    bnu2_func = lambda t: nu2 * b2**(t/Tsc)\n",
    "    phi = dadi.Integration.two_pops(phi, xx, Tsc, bnu1_func, bnu2_func, m12=m12, m21=m21)\n",
    "    ###\n",
    "    ## Calculate the spectrum\n",
    "    # Oriented\n",
    "    fsO = dadi.Spectrum.from_phi(phi, (n1,n2), (xx,xx))\n",
    "    # Mis-oriented\n",
    "    fsM = dadi.Numerics.reverse_array(fsO)\n",
    "    \n",
    "    # calculate the spectrum.\n",
    "    fs = O*fsO+(1-O)*fsM\n",
    "    return fs\n"
   ]
  },
  {
   "cell_type": "code",
   "execution_count": 5,
   "metadata": {},
   "outputs": [],
   "source": [
    "pts_l = [50,60,70]\n",
    "func = SCG\n",
    "func_ex = dadi.Numerics.make_extrap_log_func(func)\n",
    "\n",
    "#     nu1, nu2, b1, b2, m12, m21, Ts, Tsc, O = params\n",
    "popt = [6.078434, 2.054769, 0.1005408, 0.308346, 8.259579, 4.676862, 0.2975986, 0.1729786, 0.9886787]\n"
   ]
  },
  {
   "cell_type": "code",
   "execution_count": 8,
   "metadata": {},
   "outputs": [],
   "source": [
    "# Estimate parameter uncertainties using the Godambe Information Matrix, to\n",
    "# account for linkage in the data. \n",
    "import dadi.Godambe\n"
   ]
  },
  {
   "cell_type": "code",
   "execution_count": 9,
   "metadata": {},
   "outputs": [],
   "source": [
    "all_boot = [dadi.Spectrum.from_file('/home/daron/bioInf/wilding/popstructure/popdifferenciation/dadi/dadi_2D/LPdom_LBVwil_dadi_bootstrap/anopheles-rose.3.unifiedGenotyper.cov14x.passQC.merge.pol.LPdom_LBVwil.nomiss.LPdom_LBVdom.fs.boot_{0}'.format(i)) for i in range(1000)]"
   ]
  },
  {
   "cell_type": "code",
   "execution_count": 10,
   "metadata": {},
   "outputs": [],
   "source": [
    "uncerts, GIM = dadi.Godambe.GIM_uncert(func_ex, pts_l, all_boot, popt, fs, multinom=True, return_GIM = True)"
   ]
  },
  {
   "cell_type": "code",
   "execution_count": 11,
   "metadata": {},
   "outputs": [
    {
     "name": "stdout",
     "output_type": "stream",
     "text": [
      "Estimated parameter standard deviations from GIM: [9.31919869e-01 2.79958976e-01 1.14452344e-02 5.94743686e-02\n",
      " 1.29838950e+00 8.23823258e-01 4.37477503e-02 7.57683549e-02\n",
      " 7.40859765e-03 6.75724102e+03]\n"
     ]
    }
   ],
   "source": [
    "print('Estimated parameter standard deviations from GIM: {0}'.format(uncerts))\n"
   ]
  },
  {
   "cell_type": "code",
   "execution_count": 13,
   "metadata": {},
   "outputs": [
    {
     "name": "stdout",
     "output_type": "stream",
     "text": [
      "(10, 10)\n"
     ]
    }
   ],
   "source": [
    "print(GIM.shape)"
   ]
  }
 ],
 "metadata": {
  "kernelspec": {
   "display_name": "Python 3",
   "language": "python",
   "name": "python3"
  },
  "language_info": {
   "codemirror_mode": {
    "name": "ipython",
    "version": 3
   },
   "file_extension": ".py",
   "mimetype": "text/x-python",
   "name": "python",
   "nbconvert_exporter": "python",
   "pygments_lexer": "ipython3",
   "version": "3.7.6"
  }
 },
 "nbformat": 4,
 "nbformat_minor": 4
}
